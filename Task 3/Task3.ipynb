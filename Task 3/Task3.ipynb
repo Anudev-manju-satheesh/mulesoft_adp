{
 "cells": [
  {
   "cell_type": "code",
   "execution_count": 1,
   "id": "adverse-campaign",
   "metadata": {},
   "outputs": [],
   "source": [
    "import mysql.connector as mc"
   ]
  },
  {
   "cell_type": "code",
   "execution_count": 2,
   "id": "australian-johnston",
   "metadata": {},
   "outputs": [],
   "source": [
    "global db\n",
    "global cursor\n",
    "db = mc.connect(host = 'localhost',user='root',passwd = 'root',database = 'formula_one')\n",
    "cursor = db.cursor()\n",
    "def sql_cmd_show(command):\n",
    "    cursor.execute(command)\n",
    "    for i in cursor:\n",
    "        print(i)\n",
    "def sql_cmd(command):\n",
    "    cursor.execute(command)"
   ]
  },
  {
   "cell_type": "code",
   "execution_count": 3,
   "id": "moral-prior",
   "metadata": {},
   "outputs": [
    {
     "name": "stdout",
     "output_type": "stream",
     "text": [
      "('car_details',)\n",
      "('personal',)\n",
      "('points',)\n",
      "('poles_podiums',)\n"
     ]
    }
   ],
   "source": [
    "sql_cmd_show('show tables')"
   ]
  },
  {
   "cell_type": "code",
   "execution_count": 4,
   "id": "figured-israeli",
   "metadata": {},
   "outputs": [
    {
     "name": "stdout",
     "output_type": "stream",
     "text": [
      "(5, 'Vettel', 'Ferrari')\n",
      "(11, 'Perez', 'Red bull')\n",
      "(16, 'Leclerk', 'Ferrari')\n",
      "(33, 'Verstapen', 'Red bull')\n",
      "(44, 'Hamilton', 'Merc')\n",
      "(77, 'Bottas', 'Merc')\n"
     ]
    }
   ],
   "source": [
    "sql_cmd_show('select * from car_details')"
   ]
  },
  {
   "cell_type": "code",
   "execution_count": 5,
   "id": "another-manitoba",
   "metadata": {},
   "outputs": [],
   "source": [
    "sql_cmd_show(\"insert into car_details(number,Name,Team) values(63,'Russel','Williams')\" )"
   ]
  },
  {
   "cell_type": "code",
   "execution_count": 6,
   "id": "exempt-welsh",
   "metadata": {},
   "outputs": [
    {
     "name": "stdout",
     "output_type": "stream",
     "text": [
      "(5, 'Vettel', 'Ferrari')\n",
      "(11, 'Perez', 'Red bull')\n",
      "(16, 'Leclerk', 'Ferrari')\n",
      "(33, 'Verstapen', 'Red bull')\n",
      "(44, 'Hamilton', 'Merc')\n",
      "(63, 'Russel', 'Williams')\n",
      "(77, 'Bottas', 'Merc')\n"
     ]
    }
   ],
   "source": [
    "sql_cmd_show('select * from car_details')"
   ]
  },
  {
   "cell_type": "code",
   "execution_count": 7,
   "id": "genetic-suicide",
   "metadata": {},
   "outputs": [
    {
     "name": "stdout",
     "output_type": "stream",
     "text": [
      "(5, 'Vettel', 'Ferrari')\n",
      "(11, 'Perez', 'Red bull')\n",
      "(16, 'Leclerk', 'Ferrari')\n",
      "(33, 'Verstapen', 'Red bull')\n",
      "(44, 'Hamilton', 'Merc')\n",
      "(77, 'Bottas', 'Merc')\n"
     ]
    }
   ],
   "source": [
    "sql_cmd(\"delete from car_details where name='Russel'\")\n",
    "sql_cmd_show('select * from car_details')"
   ]
  },
  {
   "cell_type": "code",
   "execution_count": null,
   "id": "responsible-donna",
   "metadata": {},
   "outputs": [],
   "source": []
  }
 ],
 "metadata": {
  "kernelspec": {
   "display_name": "Python 3",
   "language": "python",
   "name": "python3"
  },
  "language_info": {
   "codemirror_mode": {
    "name": "ipython",
    "version": 3
   },
   "file_extension": ".py",
   "mimetype": "text/x-python",
   "name": "python",
   "nbconvert_exporter": "python",
   "pygments_lexer": "ipython3",
   "version": "3.7.6"
  }
 },
 "nbformat": 4,
 "nbformat_minor": 5
}
